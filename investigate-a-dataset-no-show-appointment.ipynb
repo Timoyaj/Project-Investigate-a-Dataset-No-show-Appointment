{
 "cells": [
  {
   "cell_type": "markdown",
   "metadata": {},
   "source": [
    "# Project: Investigate a Dataset No-show Appointment\n",
    "\n",
    "## Table of Contents\n",
    "<ol>\n",
    "<li><a href=\"#intro\">Introduction</a>\n",
    "   <ul style=\"margin-top:0\"> <a href=\"#problem\">1.1 Problem statement</a></ul>\n",
    "   <ul style=\"margin-top:0\"> <a href=\"#questions\">1.2 Research Questions</a></ul>\n",
    "   <ul style=\"margin-top:0\"> <a href=\"#data\">1.3 Overview of the data</a> </ul>\n",
    "</li>      \n",
    "<li><a href=\"#wrangling\">Data Wrangling</a>\n",
    "<li><a href=\"#eda\">Exploratory Data Analysis</a></li>\n",
    "<li><a href=\"#conclusion\">Conclusions</a>\n",
    "  <ul style=\"margin-top:0\"><a href=\"#summary\">4.1 Summary of findings</a></ul>\n",
    "  <ul style=\"margin-top:0\"><a href=\"#limitation\">4.2 Limitations</a></ul>\n",
    "  <ul style=\"margin-top:0\"><a href=\"#recommendation\">4.3 Recommendations</a></ul>\n",
    "<li><a href=\"#reference\">Reference Materials</a></li>\n",
    "</ol>"
   ]
  },
  {
   "cell_type": "markdown",
   "metadata": {},
   "source": [
    "<a id='intro'></a>\n",
    "## 1.0 Introduction\n",
    "This report is on exploratory analysis of data on no-show appointment from clinic in brazil<a href=\"#ref1\">(1)</a>\n",
    "The aim of the project is to investigate the the no-show dataset and communicate the findings<a href=\"#ref2\">(2)</a> as part of the learning process to demostrate the skills learn in the Data analysis Process under the ALX-T Data analyst nano degree and communicate the findings\n",
    "<a id='problem'></a>\n",
    "### 1.1 Problem Statement\n",
    "We have been presented with data on non-show appointment in a clinic to  explore the characteristics of patients who fail to show up on their appointment date with the aim of helping the management of the clinic to better stratigize on its patient appointment system in order to reduce the number of failed appointments in the clinic.\n",
    "<a id='questions'></a>\n",
    "### 1.2 Research questions\n",
    "The folowing questions will quide our analysis;\n",
    "> 1. What is the  percentage of patients that failed to show on their appointment day?\n",
    "> 2. Which gender has the highest proportion of patients that failed to show up for their appointment?\n",
    "> 3. What age group has the most number of patients that failed to show up?\n",
    "> 4. What proportion of patients recieved sms but failed to show up on thier appointment day?\n",
    "> 5. Which day of the week has the most number of no-show?\n",
    "<a id='data'></a>\n",
    "### 1.3 Overview of the data\n",
    "This dataset collects information from 100k medical appointments in Brazil and is focused on the question of whether or not patients show up for their appointment. A number of characteristics about the patient are included in each row.<a href=\"#ref3\">(3)</a> see the table below for column discription;\n",
    " <table>\n",
    "  <tr>\n",
    "    <th>Sn</th>\n",
    "    <th>Fields</th>\n",
    "  <th>Description</th>\n",
    "  </tr>\n",
    "  <tr>\n",
    "    <td> 0</td>\n",
    "    <td>PatientID</td>\n",
    "    <td>Patient identification number</td>\n",
    "  </tr>\n",
    "  <tr>\n",
    "    <td>1</td>\n",
    "    <td>AppointmentID</td>\n",
    "    <td>Identification of each appointment</td>\n",
    "  </tr>\n",
    "  <tr>\n",
    "    <td>2</td>\n",
    "    <td>Gender</td>\n",
    "    <td>Gender of the patient (Male or Female)</td>\n",
    "  </tr>\n",
    "  <tr>\n",
    "    <td>3</td>\n",
    "    <td>ScheduledDay</td>\n",
    "    <td>The day someone called or registered the appointment, this is before </td>\n",
    "  </tr>\n",
    "    <tr>\n",
    "    <td>4</td>\n",
    "    <td>AppointmentDay</td>\n",
    "    <td>The day of the actual appointment, when they have to visit the doctor</td>\n",
    "  </tr>\n",
    "    <tr>\n",
    "    <td>5</td>\n",
    "    <td>Age</td>\n",
    "    <td>How old is the patient</td>\n",
    "  </tr>\n",
    "    <tr>\n",
    "    <td>6</td>\n",
    "    <td>Neighbourhood</td>\n",
    "    <td>Where the appointment takes place</td>\n",
    "  </tr>\n",
    "    <tr>\n",
    "    <td>7</td>\n",
    "    <td>Scholarship</td>\n",
    "    <td>Indicates whether or not the patient is enrolled in Brasilian welfare program </td>\n",
    "  </tr>\n",
    "    <tr>\n",
    "    <td>8</td>\n",
    "    <td>Hypertension</td>\n",
    "    <td>True or False whether a patient is hypertensive or not</td>\n",
    "  </tr>\n",
    "    <tr>\n",
    "    <td>9</td>\n",
    "    <td>Diabetesr</td>\n",
    "    <td>True or False whether a patient is diabetic or not</td>\n",
    "  </tr>\n",
    "    <tr>\n",
    "    <td>10</td>\n",
    "    <td>Alcoholism</td>\n",
    "    <td>True or False whether a patient is alcoholics or not</td>\n",
    "  </tr>\n",
    "    <tr>\n",
    "    <td>11</td>\n",
    "    <td>Handcap</td>\n",
    "    <td>Describes the level of handicap on on scale of 0-4</td>\n",
    "  </tr>\n",
    "    <tr>\n",
    "    <td>12</td>\n",
    "    <td>SMS_received</td>\n",
    "    <td>1 or more messages sent to the patient</td>\n",
    "  </tr>\n",
    "    <tr>\n",
    "    <td>13</td>\n",
    "    <td>No-show</td>\n",
    "    <td>No’ if the patient showed up to their appointment, and ‘Yes’ if they did not show up.(Dependent variable)</td>\n",
    "  </tr>\n",
    "</table>"
   ]
  },
  {
   "cell_type": "markdown",
   "metadata": {},
   "source": [
    "<a id='importing'></a>\n",
    "* #### Importing required python libraries "
   ]
  },
  {
   "cell_type": "markdown",
   "metadata": {},
   "source": [
    "In this project we will be importing the following python libraries:\n",
    ">- OS : for changing of working directory \n",
    ">- Pandas : for maipulation our dataframe\n",
    ">- Numpy : for number manipulation\n",
    ">- Matplotlib.pyplot : for visualization of data\n",
    ">- Seaborn: also for visualization of data"
   ]
  },
  {
   "cell_type": "code",
   "execution_count": 1,
   "metadata": {},
   "outputs": [],
   "source": [
    "# Use this cell to set up import statements for all of the packages that you\n",
    "import os \n",
    "import pandas as pd\n",
    "import numpy as np\n",
    "import matplotlib.pyplot as plt\n",
    "import seaborn as sbn\n",
    "# magic word %matplotlib inline' is used so that our visualizations are plotted inline with \n",
    "#he notebook. See this page for more: http://ipython.readthedocs.io/en/stable/interactive/magics.html\n",
    "%matplotlib inline"
   ]
  },
  {
   "cell_type": "markdown",
   "metadata": {},
   "source": [
    "<a id='set directory'></a>\n",
    "* #### Set working directory and load data"
   ]
  },
  {
   "cell_type": "code",
   "execution_count": 2,
   "metadata": {},
   "outputs": [],
   "source": [
    "#set working directory for the project\n",
    "os.chdir('C:/Users/USER/3D Objects/Udacity_Project_01')\n",
    "#load data into dataframe 'df_appointment' \n",
    "df_appointment=pd.read_csv('C:/Users/USER/3D Objects/Udacity_Project_01/data/noshowappointments-kagglev2-may-2016.csv')"
   ]
  },
  {
   "cell_type": "markdown",
   "metadata": {},
   "source": [
    "<a id='wrangling'></a>\n",
    "## 2.0 Data Wrangling\n",
    "In this section we will look at the structure of the data,its rows and column size, data type of the columns. Also we will check for possible null values, duplicate, inconsistent columnsnames, and distinct values for each column.\n",
    "We will then go further to clean the data by correcting the abnormalies in the data for a smooth analysis on the data.\n",
    "### 2.1 General Properties"
   ]
  },
  {
   "cell_type": "markdown",
   "metadata": {},
   "source": [
    "* #### Reading in data"
   ]
  },
  {
   "cell_type": "code",
   "execution_count": 3,
   "metadata": {},
   "outputs": [
    {
     "data": {
      "text/html": [
       "<div>\n",
       "<style scoped>\n",
       "    .dataframe tbody tr th:only-of-type {\n",
       "        vertical-align: middle;\n",
       "    }\n",
       "\n",
       "    .dataframe tbody tr th {\n",
       "        vertical-align: top;\n",
       "    }\n",
       "\n",
       "    .dataframe thead th {\n",
       "        text-align: right;\n",
       "    }\n",
       "</style>\n",
       "<table border=\"1\" class=\"dataframe\">\n",
       "  <thead>\n",
       "    <tr style=\"text-align: right;\">\n",
       "      <th></th>\n",
       "      <th>PatientId</th>\n",
       "      <th>AppointmentID</th>\n",
       "      <th>Gender</th>\n",
       "      <th>ScheduledDay</th>\n",
       "      <th>AppointmentDay</th>\n",
       "      <th>Age</th>\n",
       "      <th>Neighbourhood</th>\n",
       "      <th>Scholarship</th>\n",
       "      <th>Hipertension</th>\n",
       "      <th>Diabetes</th>\n",
       "      <th>Alcoholism</th>\n",
       "      <th>Handcap</th>\n",
       "      <th>SMS_received</th>\n",
       "      <th>No-show</th>\n",
       "    </tr>\n",
       "  </thead>\n",
       "  <tbody>\n",
       "    <tr>\n",
       "      <th>0</th>\n",
       "      <td>2.987250e+13</td>\n",
       "      <td>5642903</td>\n",
       "      <td>F</td>\n",
       "      <td>2016-04-29T18:38:08Z</td>\n",
       "      <td>2016-04-29T00:00:00Z</td>\n",
       "      <td>62</td>\n",
       "      <td>JARDIM DA PENHA</td>\n",
       "      <td>0</td>\n",
       "      <td>1</td>\n",
       "      <td>0</td>\n",
       "      <td>0</td>\n",
       "      <td>0</td>\n",
       "      <td>0</td>\n",
       "      <td>No</td>\n",
       "    </tr>\n",
       "    <tr>\n",
       "      <th>1</th>\n",
       "      <td>5.589978e+14</td>\n",
       "      <td>5642503</td>\n",
       "      <td>M</td>\n",
       "      <td>2016-04-29T16:08:27Z</td>\n",
       "      <td>2016-04-29T00:00:00Z</td>\n",
       "      <td>56</td>\n",
       "      <td>JARDIM DA PENHA</td>\n",
       "      <td>0</td>\n",
       "      <td>0</td>\n",
       "      <td>0</td>\n",
       "      <td>0</td>\n",
       "      <td>0</td>\n",
       "      <td>0</td>\n",
       "      <td>No</td>\n",
       "    </tr>\n",
       "  </tbody>\n",
       "</table>\n",
       "</div>"
      ],
      "text/plain": [
       "      PatientId  AppointmentID Gender          ScheduledDay  \\\n",
       "0  2.987250e+13        5642903      F  2016-04-29T18:38:08Z   \n",
       "1  5.589978e+14        5642503      M  2016-04-29T16:08:27Z   \n",
       "\n",
       "         AppointmentDay  Age    Neighbourhood  Scholarship  Hipertension  \\\n",
       "0  2016-04-29T00:00:00Z   62  JARDIM DA PENHA            0             1   \n",
       "1  2016-04-29T00:00:00Z   56  JARDIM DA PENHA            0             0   \n",
       "\n",
       "   Diabetes  Alcoholism  Handcap  SMS_received No-show  \n",
       "0         0           0        0             0      No  \n",
       "1         0           0        0             0      No  "
      ]
     },
     "execution_count": 3,
     "metadata": {},
     "output_type": "execute_result"
    }
   ],
   "source": [
    "# Load your data and print out a few lines. Perform operations to inspect data\n",
    "#load data into dataframe 'df_appointment' \n",
    "df_appointment=pd.read_csv('C:/Users/USER/3D Objects/Udacity_Project_01/data/noshowappointments-kagglev2-may-2016.csv')\n",
    "\n",
    "#print out 2 lines of data\n",
    "df_appointment.head(2)"
   ]
  },
  {
   "cell_type": "markdown",
   "metadata": {},
   "source": [
    "The table above shows a sample of our data set with two rows of data"
   ]
  },
  {
   "cell_type": "code",
   "execution_count": 4,
   "metadata": {},
   "outputs": [
    {
     "data": {
      "text/plain": [
       "(110527, 14)"
      ]
     },
     "execution_count": 4,
     "metadata": {},
     "output_type": "execute_result"
    }
   ],
   "source": [
    "#   This shows the number of rows and colunm in the data set, types and look for instances of missing or possibly errant data.\n",
    "df_appointment.shape"
   ]
  },
  {
   "cell_type": "markdown",
   "metadata": {},
   "source": [
    "The data has 110527 rows (records) and 14 columns (fields)"
   ]
  },
  {
   "cell_type": "code",
   "execution_count": 5,
   "metadata": {},
   "outputs": [
    {
     "name": "stdout",
     "output_type": "stream",
     "text": [
      "<class 'pandas.core.frame.DataFrame'>\n",
      "RangeIndex: 110527 entries, 0 to 110526\n",
      "Data columns (total 14 columns):\n",
      " #   Column          Non-Null Count   Dtype  \n",
      "---  ------          --------------   -----  \n",
      " 0   PatientId       110527 non-null  float64\n",
      " 1   AppointmentID   110527 non-null  int64  \n",
      " 2   Gender          110527 non-null  object \n",
      " 3   ScheduledDay    110527 non-null  object \n",
      " 4   AppointmentDay  110527 non-null  object \n",
      " 5   Age             110527 non-null  int64  \n",
      " 6   Neighbourhood   110527 non-null  object \n",
      " 7   Scholarship     110527 non-null  int64  \n",
      " 8   Hipertension    110527 non-null  int64  \n",
      " 9   Diabetes        110527 non-null  int64  \n",
      " 10  Alcoholism      110527 non-null  int64  \n",
      " 11  Handcap         110527 non-null  int64  \n",
      " 12  SMS_received    110527 non-null  int64  \n",
      " 13  No-show         110527 non-null  object \n",
      "dtypes: float64(1), int64(8), object(5)\n",
      "memory usage: 11.8+ MB\n"
     ]
    }
   ],
   "source": [
    "# this code gives information about the data at a glance \n",
    "df_appointment.info()"
   ]
  },
  {
   "cell_type": "markdown",
   "metadata": {},
   "source": [
    "From the result above we have 110527 entries in the dataframe indexed fom 0-110526, with total number of column as 14.\n",
    "    **Column**: shows the field or column names.\n",
    "    **Non-Null Count**: shows the total values in the column that are not null.\n",
    "    **Dtype**: Shows the data types of all the field/columns.\n",
    "We need to change Data type of ScheduledDay and AppointmentDay to Datetime. No-show to Boolean"
   ]
  },
  {
   "cell_type": "code",
   "execution_count": 6,
   "metadata": {},
   "outputs": [
    {
     "data": {
      "text/plain": [
       "PatientId          62299\n",
       "AppointmentID     110527\n",
       "Gender                 2\n",
       "ScheduledDay      103549\n",
       "AppointmentDay        27\n",
       "Age                  104\n",
       "Neighbourhood         81\n",
       "Scholarship            2\n",
       "Hipertension           2\n",
       "Diabetes               2\n",
       "Alcoholism             2\n",
       "Handcap                5\n",
       "SMS_received           2\n",
       "No-show                2\n",
       "dtype: int64"
      ]
     },
     "execution_count": 6,
     "metadata": {},
     "output_type": "execute_result"
    }
   ],
   "source": [
    "#check the number of unique values in each column to see if there extra labels apart fro the ones specified.\n",
    "df_appointment.nunique()"
   ]
  },
  {
   "cell_type": "markdown",
   "metadata": {},
   "source": [
    "The table above shows the column names and the respective number of unique values in each column."
   ]
  },
  {
   "cell_type": "code",
   "execution_count": 7,
   "metadata": {},
   "outputs": [
    {
     "data": {
      "text/plain": [
       "PatientId         0\n",
       "AppointmentID     0\n",
       "Gender            0\n",
       "ScheduledDay      0\n",
       "AppointmentDay    0\n",
       "Age               0\n",
       "Neighbourhood     0\n",
       "Scholarship       0\n",
       "Hipertension      0\n",
       "Diabetes          0\n",
       "Alcoholism        0\n",
       "Handcap           0\n",
       "SMS_received      0\n",
       "No-show           0\n",
       "dtype: int64"
      ]
     },
     "execution_count": 7,
     "metadata": {},
     "output_type": "execute_result"
    }
   ],
   "source": [
    "#check for null values in the data set\n",
    "df_appointment.isnull().sum()"
   ]
  },
  {
   "cell_type": "markdown",
   "metadata": {},
   "source": [
    "The result above shows that there are no null values in any of the columns of the data set"
   ]
  },
  {
   "cell_type": "code",
   "execution_count": 8,
   "metadata": {},
   "outputs": [
    {
     "data": {
      "text/plain": [
       "0"
      ]
     },
     "execution_count": 8,
     "metadata": {},
     "output_type": "execute_result"
    }
   ],
   "source": [
    "#check for duplicates values in the data set\n",
    "df_appointment.duplicated().sum()"
   ]
  },
  {
   "cell_type": "markdown",
   "metadata": {},
   "source": [
    "From the the result above there are no duplicates in the data"
   ]
  },
  {
   "cell_type": "code",
   "execution_count": 9,
   "metadata": {},
   "outputs": [
    {
     "data": {
      "text/plain": [
       "array([False, False, False, False, False, False, False, False, False,\n",
       "       False, False, False, False, False])"
      ]
     },
     "execution_count": 9,
     "metadata": {},
     "output_type": "execute_result"
    }
   ],
   "source": [
    "#check for white spaces in the column names\n",
    "df_appointment.columns.str.contains('^\\s+$')"
   ]
  },
  {
   "cell_type": "markdown",
   "metadata": {},
   "source": [
    "From the fresult above there are no white spaces in the column names"
   ]
  },
  {
   "cell_type": "code",
   "execution_count": 10,
   "metadata": {},
   "outputs": [
    {
     "data": {
      "text/html": [
       "<div>\n",
       "<style scoped>\n",
       "    .dataframe tbody tr th:only-of-type {\n",
       "        vertical-align: middle;\n",
       "    }\n",
       "\n",
       "    .dataframe tbody tr th {\n",
       "        vertical-align: top;\n",
       "    }\n",
       "\n",
       "    .dataframe thead th {\n",
       "        text-align: right;\n",
       "    }\n",
       "</style>\n",
       "<table border=\"1\" class=\"dataframe\">\n",
       "  <thead>\n",
       "    <tr style=\"text-align: right;\">\n",
       "      <th></th>\n",
       "      <th>PatientId</th>\n",
       "      <th>AppointmentID</th>\n",
       "      <th>Age</th>\n",
       "      <th>Scholarship</th>\n",
       "      <th>Hipertension</th>\n",
       "      <th>Diabetes</th>\n",
       "      <th>Alcoholism</th>\n",
       "      <th>Handcap</th>\n",
       "      <th>SMS_received</th>\n",
       "    </tr>\n",
       "  </thead>\n",
       "  <tbody>\n",
       "    <tr>\n",
       "      <th>count</th>\n",
       "      <td>1.105270e+05</td>\n",
       "      <td>1.105270e+05</td>\n",
       "      <td>110527.000000</td>\n",
       "      <td>110527.000000</td>\n",
       "      <td>110527.000000</td>\n",
       "      <td>110527.000000</td>\n",
       "      <td>110527.000000</td>\n",
       "      <td>110527.000000</td>\n",
       "      <td>110527.000000</td>\n",
       "    </tr>\n",
       "    <tr>\n",
       "      <th>mean</th>\n",
       "      <td>1.474963e+14</td>\n",
       "      <td>5.675305e+06</td>\n",
       "      <td>37.088874</td>\n",
       "      <td>0.098266</td>\n",
       "      <td>0.197246</td>\n",
       "      <td>0.071865</td>\n",
       "      <td>0.030400</td>\n",
       "      <td>0.022248</td>\n",
       "      <td>0.321026</td>\n",
       "    </tr>\n",
       "    <tr>\n",
       "      <th>std</th>\n",
       "      <td>2.560949e+14</td>\n",
       "      <td>7.129575e+04</td>\n",
       "      <td>23.110205</td>\n",
       "      <td>0.297675</td>\n",
       "      <td>0.397921</td>\n",
       "      <td>0.258265</td>\n",
       "      <td>0.171686</td>\n",
       "      <td>0.161543</td>\n",
       "      <td>0.466873</td>\n",
       "    </tr>\n",
       "    <tr>\n",
       "      <th>min</th>\n",
       "      <td>3.921784e+04</td>\n",
       "      <td>5.030230e+06</td>\n",
       "      <td>-1.000000</td>\n",
       "      <td>0.000000</td>\n",
       "      <td>0.000000</td>\n",
       "      <td>0.000000</td>\n",
       "      <td>0.000000</td>\n",
       "      <td>0.000000</td>\n",
       "      <td>0.000000</td>\n",
       "    </tr>\n",
       "    <tr>\n",
       "      <th>25%</th>\n",
       "      <td>4.172614e+12</td>\n",
       "      <td>5.640286e+06</td>\n",
       "      <td>18.000000</td>\n",
       "      <td>0.000000</td>\n",
       "      <td>0.000000</td>\n",
       "      <td>0.000000</td>\n",
       "      <td>0.000000</td>\n",
       "      <td>0.000000</td>\n",
       "      <td>0.000000</td>\n",
       "    </tr>\n",
       "    <tr>\n",
       "      <th>50%</th>\n",
       "      <td>3.173184e+13</td>\n",
       "      <td>5.680573e+06</td>\n",
       "      <td>37.000000</td>\n",
       "      <td>0.000000</td>\n",
       "      <td>0.000000</td>\n",
       "      <td>0.000000</td>\n",
       "      <td>0.000000</td>\n",
       "      <td>0.000000</td>\n",
       "      <td>0.000000</td>\n",
       "    </tr>\n",
       "    <tr>\n",
       "      <th>75%</th>\n",
       "      <td>9.439172e+13</td>\n",
       "      <td>5.725524e+06</td>\n",
       "      <td>55.000000</td>\n",
       "      <td>0.000000</td>\n",
       "      <td>0.000000</td>\n",
       "      <td>0.000000</td>\n",
       "      <td>0.000000</td>\n",
       "      <td>0.000000</td>\n",
       "      <td>1.000000</td>\n",
       "    </tr>\n",
       "    <tr>\n",
       "      <th>max</th>\n",
       "      <td>9.999816e+14</td>\n",
       "      <td>5.790484e+06</td>\n",
       "      <td>115.000000</td>\n",
       "      <td>1.000000</td>\n",
       "      <td>1.000000</td>\n",
       "      <td>1.000000</td>\n",
       "      <td>1.000000</td>\n",
       "      <td>4.000000</td>\n",
       "      <td>1.000000</td>\n",
       "    </tr>\n",
       "  </tbody>\n",
       "</table>\n",
       "</div>"
      ],
      "text/plain": [
       "          PatientId  AppointmentID            Age    Scholarship  \\\n",
       "count  1.105270e+05   1.105270e+05  110527.000000  110527.000000   \n",
       "mean   1.474963e+14   5.675305e+06      37.088874       0.098266   \n",
       "std    2.560949e+14   7.129575e+04      23.110205       0.297675   \n",
       "min    3.921784e+04   5.030230e+06      -1.000000       0.000000   \n",
       "25%    4.172614e+12   5.640286e+06      18.000000       0.000000   \n",
       "50%    3.173184e+13   5.680573e+06      37.000000       0.000000   \n",
       "75%    9.439172e+13   5.725524e+06      55.000000       0.000000   \n",
       "max    9.999816e+14   5.790484e+06     115.000000       1.000000   \n",
       "\n",
       "        Hipertension       Diabetes     Alcoholism        Handcap  \\\n",
       "count  110527.000000  110527.000000  110527.000000  110527.000000   \n",
       "mean        0.197246       0.071865       0.030400       0.022248   \n",
       "std         0.397921       0.258265       0.171686       0.161543   \n",
       "min         0.000000       0.000000       0.000000       0.000000   \n",
       "25%         0.000000       0.000000       0.000000       0.000000   \n",
       "50%         0.000000       0.000000       0.000000       0.000000   \n",
       "75%         0.000000       0.000000       0.000000       0.000000   \n",
       "max         1.000000       1.000000       1.000000       4.000000   \n",
       "\n",
       "        SMS_received  \n",
       "count  110527.000000  \n",
       "mean        0.321026  \n",
       "std         0.466873  \n",
       "min         0.000000  \n",
       "25%         0.000000  \n",
       "50%         0.000000  \n",
       "75%         1.000000  \n",
       "max         1.000000  "
      ]
     },
     "execution_count": 10,
     "metadata": {},
     "output_type": "execute_result"
    }
   ],
   "source": [
    "# This code gives the summary statistics of the data\n",
    "df_appointment.describe()"
   ]
  },
  {
   "cell_type": "markdown",
   "metadata": {},
   "source": [
    "A glance at the staticial summary of the variables shows that age has minimum value of -1 which is inappropriate as age value and maximum of 115 which is an outlayer consisering the mean and median values of age in the data set."
   ]
  },
  {
   "cell_type": "code",
   "execution_count": 11,
   "metadata": {},
   "outputs": [
    {
     "name": "stdout",
     "output_type": "stream",
     "text": [
      "Outlier in ages are : [array([115, 115, 115, 115, 115], dtype=int64)]\n"
     ]
    },
    {
     "data": {
      "image/png": "[encoded data removed]",
      "text/plain": [
       "<Figure size 432x288 with 1 Axes>"
      ]
     },
     "metadata": {
      "needs_background": "light"
     },
     "output_type": "display_data"
    }
   ],
   "source": [
    "# check the distribution of age with boxplot\n",
    "boxplt=plt.boxplot(df_appointment['Age'])\n",
    "\n",
    "# Add major axis labels\n",
    "plt.xlabel('noshow')\n",
    "plt.ylabel('Age')\n",
    "\n",
    "# Set boxplot title\n",
    "plt.title('Box plot of age') \n",
    "#show only left and bottom  borders\n",
    "sbn.despine(top=True, right=True)\n",
    "\n",
    "# Print the values of the outliers \n",
    "print('Outlier in ages are :',[item.get_ydata() for item in boxplt['fliers']])\n"
   ]
  },
  {
   "cell_type": "markdown",
   "metadata": {},
   "source": [
    "From the boxplot above we see there are outlayers in the upper cap of the boxplot. "
   ]
  },
  {
   "cell_type": "markdown",
   "metadata": {},
   "source": [
    "### 2.2 Data Cleaning of No-show Data Set\n",
    "We will perform data cleaning activities like changing columns names to lowercase, triming white spaces in columns,changing data types to appropiate ones,creating new columns, and dropping columns and rows with outlayers and inapproriate entries."
   ]
  },
  {
   "cell_type": "markdown",
   "metadata": {},
   "source": [
    "* ####  cleaning columns"
   ]
  },
  {
   "cell_type": "code",
   "execution_count": 12,
   "metadata": {},
   "outputs": [
    {
     "data": {
      "text/plain": [
       "Index(['patientid', 'appointmentid', 'gender', 'scheduledday',\n",
       "       'appointmentday', 'age', 'neighbourhood', 'scholarship', 'hipertension',\n",
       "       'diabetes', 'alcoholism', 'handcap', 'sms_received', 'noshow'],\n",
       "      dtype='object')"
      ]
     },
     "execution_count": 12,
     "metadata": {},
     "output_type": "execute_result"
    }
   ],
   "source": [
    "#change column names to lowercase and remove \"-\" from column name for clearity\n",
    "df_appointment.rename(columns=lambda x: x.strip().lower().replace(\"-\", \"\"), inplace=True)\n",
    "\n",
    "#comfirm changes have been maded\n",
    "df_appointment.columns"
   ]
  },
  {
   "cell_type": "markdown",
   "metadata": {},
   "source": [
    "**Change data types**"
   ]
  },
  {
   "cell_type": "code",
   "execution_count": 23,
   "metadata": {},
   "outputs": [
    {
     "data": {
      "text/plain": [
       "patientid                     float64\n",
       "appointmentid     datetime64[ns, UTC]\n",
       "gender                         object\n",
       "scheduledday      datetime64[ns, UTC]\n",
       "appointmentday    datetime64[ns, UTC]\n",
       "age                             int64\n",
       "neighbourhood                  object\n",
       "scholarship                      bool\n",
       "hipertension                     bool\n",
       "diabetes                         bool\n",
       "alcoholism                       bool\n",
       "handcap                         int64\n",
       "sms_received                     bool\n",
       "noshow                           bool\n",
       "dtype: object"
      ]
     },
     "execution_count": 23,
     "metadata": {},
     "output_type": "execute_result"
    }
   ],
   "source": [
    "# Let us change the data types\n",
    "df_appointment['scholarship'].replace({ 1: True, 0: False, }, inplace=True) #change data type to boolean\n",
    "df_appointment['hipertension'].replace({ 1: True, 0: False, }, inplace=True)#change data type to boolean\n",
    "df_appointment['diabetes'].replace({ 1: True, 0: False, }, inplace=True)    #change data type to boolean\n",
    "df_appointment['alcoholism'].replace({ 1: True, 0: False, }, inplace=True)   #change data type to boolean\n",
    "df_appointment['sms_received'].replace({ 1: True, 0: False, }, inplace=True)\n",
    "df_appointment['noshow'].replace({ 'No': True, 'Yes': False, }, inplace=True)  #change data type to boolean\n",
    "df_appointment['age'].astype(int)      #change data type to integer\n",
    "df_appointment['appointmentday'] = pd.to_datetime(df_appointment['appointmentday'])#change data type to date\n",
    "df_appointment['scheduledday'] = pd.to_datetime(df_appointment['scheduledday']) #change data type to date\n",
    "df_appointment.dtypes\n",
    "            \n"
   ]
  },
  {
   "cell_type": "markdown",
   "metadata": {},
   "source": [
    "we can see that the data types have been changed successfully"
   ]
  },
  {
   "cell_type": "markdown",
   "metadata": {},
   "source": [
    "We can comfirm from the result above that all column names have been changed to lowercase letters"
   ]
  },
  {
   "cell_type": "markdown",
   "metadata": {},
   "source": [
    "**Drop rows with inappropriate entries**"
   ]
  },
  {
   "cell_type": "code",
   "execution_count": 16,
   "metadata": {},
   "outputs": [
    {
     "name": "stdout",
     "output_type": "stream",
     "text": [
      "percentage to drop= 0.005428537823337284 %\n"
     ]
    }
   ],
   "source": [
    "# let us view the rows that has -1 and 115 as age\n",
    "df_appointment.query('(age== 115)| (age== -1)')\n",
    "\n",
    "#let us see the percentage of the rows we want to drop\n",
    "age_wrong= df_appointment.query('(age== 115)| (age== -1)').value_counts().sum() #find the total of row to be dropped\n",
    "percent=age_wrong/len(df_appointment)*100\n",
    "print(\"percentage to drop=\",percent,\"%\") #print the value on the screen\n",
    "\n",
    "\n"
   ]
  },
  {
   "cell_type": "markdown",
   "metadata": {},
   "source": [
    "we can see that the percentage to be dropped is insignificant so, we will go ahead and drop the rows"
   ]
  },
  {
   "cell_type": "code",
   "execution_count": 17,
   "metadata": {},
   "outputs": [
    {
     "data": {
      "text/html": [
       "<div>\n",
       "<style scoped>\n",
       "    .dataframe tbody tr th:only-of-type {\n",
       "        vertical-align: middle;\n",
       "    }\n",
       "\n",
       "    .dataframe tbody tr th {\n",
       "        vertical-align: top;\n",
       "    }\n",
       "\n",
       "    .dataframe thead th {\n",
       "        text-align: right;\n",
       "    }\n",
       "</style>\n",
       "<table border=\"1\" class=\"dataframe\">\n",
       "  <thead>\n",
       "    <tr style=\"text-align: right;\">\n",
       "      <th></th>\n",
       "      <th>patientid</th>\n",
       "      <th>appointmentid</th>\n",
       "      <th>gender</th>\n",
       "      <th>scheduledday</th>\n",
       "      <th>appointmentday</th>\n",
       "      <th>age</th>\n",
       "      <th>neighbourhood</th>\n",
       "      <th>scholarship</th>\n",
       "      <th>hipertension</th>\n",
       "      <th>diabetes</th>\n",
       "      <th>alcoholism</th>\n",
       "      <th>handcap</th>\n",
       "      <th>sms_received</th>\n",
       "      <th>noshow</th>\n",
       "    </tr>\n",
       "  </thead>\n",
       "  <tbody>\n",
       "  </tbody>\n",
       "</table>\n",
       "</div>"
      ],
      "text/plain": [
       "Empty DataFrame\n",
       "Columns: [patientid, appointmentid, gender, scheduledday, appointmentday, age, neighbourhood, scholarship, hipertension, diabetes, alcoholism, handcap, sms_received, noshow]\n",
       "Index: []"
      ]
     },
     "execution_count": 17,
     "metadata": {},
     "output_type": "execute_result"
    }
   ],
   "source": [
    "# drop this row as it will not significantlly affect our analysis\n",
    "df_appointment.drop(df_appointment.query('(age== 115)| (age== -1)') .index, inplace=True)\n",
    "\n",
    "#Comfirm that the row has been drop\n",
    "df_appointment.query('(age== 115)| (age== -1)') "
   ]
  },
  {
   "cell_type": "markdown",
   "metadata": {},
   "source": [
    "We can comfirm from the table above that the rows with inappropriate values have been dropped."
   ]
  },
  {
   "cell_type": "markdown",
   "metadata": {},
   "source": [
    "**Create new columns**\n",
    "We need to create three new Columns in order to enable us answer our research questions efficently.\n",
    "The Columns are;\n",
    "> **agegroup :** This variable contains the grouping age into age-groups by using Minimum, 25%, 50%, 75% and maximum summary values from our age column.\n",
    "> <br> **weekday :** This variable contains day of week, like monday, tuesday, wednessday, etc. from the appointmentday column.<a href=\"#ref4\">(4)</a>\n",
    "</br>"
   ]
  },
  {
   "cell_type": "code",
   "execution_count": 18,
   "metadata": {},
   "outputs": [
    {
     "name": "stdout",
     "output_type": "stream",
     "text": [
      "<class 'pandas.core.frame.DataFrame'>\n",
      "Int64Index: 110521 entries, 0 to 110526\n",
      "Data columns (total 16 columns):\n",
      " #   Column          Non-Null Count   Dtype              \n",
      "---  ------          --------------   -----              \n",
      " 0   patientid       110521 non-null  float64            \n",
      " 1   appointmentid   110521 non-null  int64              \n",
      " 2   gender          110521 non-null  object             \n",
      " 3   scheduledday    110521 non-null  datetime64[ns, UTC]\n",
      " 4   appointmentday  110521 non-null  datetime64[ns, UTC]\n",
      " 5   age             110521 non-null  int64              \n",
      " 6   neighbourhood   110521 non-null  object             \n",
      " 7   scholarship     110521 non-null  bool               \n",
      " 8   hipertension    110521 non-null  bool               \n",
      " 9   diabetes        110521 non-null  bool               \n",
      " 10  alcoholism      110521 non-null  bool               \n",
      " 11  handcap         110521 non-null  int64              \n",
      " 12  sms_received    110521 non-null  bool               \n",
      " 13  noshow          110521 non-null  bool               \n",
      " 14  weekday         110521 non-null  category           \n",
      " 15  agegroup        106982 non-null  category           \n",
      "dtypes: bool(6), category(2), datetime64[ns, UTC](2), float64(1), int64(3), object(2)\n",
      "memory usage: 8.4+ MB\n"
     ]
    }
   ],
   "source": [
    "#create new column with name \"weekday\" from the appointmentday column and set the data type to be categorical</br>\n",
    "df_appointment['weekday'] = df_appointment['appointmentday'].dt.day_name().astype(\"category\")\n",
    "wkday=df_appointment['weekday'].value_counts()\n",
    "\n",
    "#Create column \"agegroup\" with label names as label and bin cut as bins_d\n",
    "label=[\"0-17\",\"18-36\",\"37-54\",\"55-above\"]\n",
    "bins_d =[0,18,37,55,102]\n",
    "df_appointment[\"agegroup\"]=pd.cut(x= df_appointment[\"age\"], right=True, bins=bins_d , labels=label).astype(\"category\")\n",
    "\n",
    "#comfirm that the two column are created with the right data types and the columns names reorded\n",
    "df_appointment.info()\n",
    "\n"
   ]
  },
  {
   "cell_type": "markdown",
   "metadata": {},
   "source": [
    "We can see above that the two new columns are created and the columns are reorderd neatly in the order specified."
   ]
  },
  {
   "cell_type": "markdown",
   "metadata": {},
   "source": [
    "* #### Filter the data\n",
    "We have to sellect a subset of our data to include only values of nonshow ==True and columns weekday, gender, agegroup, and sms_recieved will be sellected as these are the variables that relate to our research questions. This dataframe will be denoted as df_noshow and will be used to answer our research questions as we are more concerned about people that fail to show up on thier apppointment date.\n"
   ]
  },
  {
   "cell_type": "code",
   "execution_count": 19,
   "metadata": {},
   "outputs": [
    {
     "data": {
      "text/plain": [
       "weekday         6\n",
       "gender          2\n",
       "agegroup        4\n",
       "sms_received    2\n",
       "noshow          1\n",
       "dtype: int64"
      ]
     },
     "execution_count": 19,
     "metadata": {},
     "output_type": "execute_result"
    }
   ],
   "source": [
    "#Select only the data for noshow column equal to False i.e those that failed to show up\n",
    "df_noshow=df_appointment[df_appointment.noshow== False]\n",
    "\n",
    "#drop columns that are not usefull in our analysis\n",
    "df_noshow=df_noshow.drop(columns=['patientid','appointmentid','scheduledday','appointmentday','age','hipertension','diabetes','alcoholism','handcap','neighbourhood',\n",
    "       'scholarship'])\n",
    "#reorder column names to be more cohesive\n",
    "df_noshow=df_noshow[['weekday','gender','agegroup','sms_received','noshow']]\n",
    "#comfirm that only the desired columns and values are selected\n",
    "df_noshow.nunique()"
   ]
  },
  {
   "cell_type": "markdown",
   "metadata": {},
   "source": [
    "From the result above, we can see that only data on people who failed to show up for appointment with weekday, gender, agegroup, and sms_recieved are selected."
   ]
  },
  {
   "cell_type": "markdown",
   "metadata": {},
   "source": [
    "<a id='eda'></a>\n",
    "## 3.0 Exploratory Data Analysis\n",
    "In this section we will be providing answers to our research questions by exploring the data and providing relevant visualizations<a href=\"#ref5\">(5)</a> to support it.\n",
    "\n",
    "### Research Question 1: What is the percentage of those who fail to show up?"
   ]
  },
  {
   "cell_type": "code",
   "execution_count": 20,
   "metadata": {},
   "outputs": [
    {
     "data": {
      "image/png": "[encoded data removed]",
      "text/plain": [
       "<Figure size 432x288 with 1 Axes>"
      ]
     },
     "metadata": {},
     "output_type": "display_data"
    }
   ],
   "source": [
    "# The code gives us the percentage of those who fail to turn up\n",
    "fig1, tmy = plt.subplots()\n",
    "label= [\"Show\",\"noshow\"]\n",
    "#plot and show percentage values on the plot\n",
    "tmy.pie(df_appointment['noshow'].value_counts(), labels=label,colors = ['c', 'cyan'],autopct='%1.2f%%')\n",
    "tmy.set_title('Percentage of Show and no-show');"
   ]
  },
  {
   "cell_type": "markdown",
   "metadata": {},
   "source": [
    "From the Pie chart above, the percentage of those that fail to show up on thier appointment day is 20.19% while those that showed up is 79.81%."
   ]
  },
  {
   "cell_type": "markdown",
   "metadata": {},
   "source": [
    "### Research Question 2 :Which gender has the highest proportion of patients that failed to show up for their appointment?"
   ]
  },
  {
   "cell_type": "code",
   "execution_count": 21,
   "metadata": {},
   "outputs": [
    {
     "data": {
      "image/png": "[encoded data removed]",
      "text/plain": [
       "<Figure size 432x288 with 1 Axes>"
      ]
     },
     "metadata": {},
     "output_type": "display_data"
    }
   ],
   "source": [
    "fig2, tmy = plt.subplots()\n",
    "label= [\"Female\",\"Male\"]\n",
    "#plot and show percentage values on the plot [wert](1)\n",
    "tmy.pie(df_appointment['gender'].value_counts(), labels=label,labeldistance=1.07,colors = ['c', 'cyan'],autopct='%1.2f%%')\n",
    "tmy.set_title('Percentage of Show Distributed by Gender', size=14);\n"
   ]
  },
  {
   "cell_type": "markdown",
   "metadata": {},
   "source": [
    "From the pie chart above 35% of those that failed to show up are male patients while 65% are female."
   ]
  },
  {
   "cell_type": "markdown",
   "metadata": {},
   "source": [
    "### Research Question 3 : What age group has the most number of patients that failed to show up?"
   ]
  },
  {
   "cell_type": "code",
   "execution_count": 22,
   "metadata": {},
   "outputs": [
    {
     "data": {
      "image/png": "[encoded data removed]",
      "text/plain": [
       "<Figure size 360x360 with 1 Axes>"
      ]
     },
     "metadata": {
      "needs_background": "light"
     },
     "output_type": "display_data"
    }
   ],
   "source": [
    "# Make the bar plot for count of age group with bar color = cyan,linewidth =1 and bar edge color=yellow\n",
    "sbn.catplot(x=\"agegroup\", kind=\"count\", color='cyan',linewidth=1,\n",
    "                   edgecolor=\"y\", data=df_noshow)\n",
    "\n",
    "# set graph title with font size 14\n",
    "plt.title(\"Age Group Distribution\",size=14)\n",
    "# set x and y axis labels\n",
    "plt.xlabel(\"Age Group\")\n",
    "plt.ylabel(\"Total number\");"
   ]
  },
  {
   "cell_type": "markdown",
   "metadata": {},
   "source": [
    "From the Bar chart above we can see that majority of the patients that fail to turn up are between 18-36 years, followed by 0-17 years, then 37-54 years and finally 55 years and above."
   ]
  },
  {
   "cell_type": "markdown",
   "metadata": {},
   "source": [
    "### Research Question 4:  What proportion of patients recieved sms but failed to show up on their appointment day?"
   ]
  },
  {
   "cell_type": "code",
   "execution_count": 23,
   "metadata": {},
   "outputs": [
    {
     "data": {
      "image/png": "[encoded data removed]",
      "text/plain": [
       "<Figure size 432x288 with 1 Axes>"
      ]
     },
     "metadata": {},
     "output_type": "display_data"
    }
   ],
   "source": [
    "\n",
    "# Make the bar plot for age distribution\n",
    "fig1, tmy = plt.subplots()\n",
    "label= [\"No sms_received\",\"sms_received\"]\n",
    "#plot and show percentage values on the plot\n",
    "tmy.pie(df_noshow['sms_received'].value_counts(),labels=label, labeldistance=1.07,\n",
    "        colors = ['c', 'cyan'],autopct='%1.2f%%')\n",
    "tmy.set_title('Percentage Distributed by sms_received', size=14);\n"
   ]
  },
  {
   "cell_type": "markdown",
   "metadata": {},
   "source": [
    "From the bar Chart above we can see that only 43.84% of patients received sms but failed to turn up on thier appointment day while 56.16% did not receive sms"
   ]
  },
  {
   "cell_type": "markdown",
   "metadata": {},
   "source": [
    "### Research Question 5: Which day of the week has the most number of no-show?"
   ]
  },
  {
   "cell_type": "code",
   "execution_count": 24,
   "metadata": {},
   "outputs": [
    {
     "data": {
      "image/png": "[encoded data removed]",
      "text/plain": [
       "<Figure size 360x360 with 1 Axes>"
      ]
     },
     "metadata": {
      "needs_background": "light"
     },
     "output_type": "display_data"
    }
   ],
   "source": [
    "# Make the bar plot for count of day of the week with bar color = cyan,linewidth =1, \n",
    "# and bar edge color=yellow, then order by monday to saturday\n",
    "sbn.catplot(y=\"weekday\", kind=\"count\", color='cyan',linewidth=1, edgecolor=\"y\", \n",
    "            order=['Monday','Tuesday','Wednesday','Thursday','Friday','Saturday'], data=df_noshow)\n",
    "\n",
    "# set graph title with font size 14\n",
    "plt.title(\"Week day Group Distribution\",size=14)\n",
    "# # set x and y axis labels\n",
    "plt.xlabel(\"Day of the week\")\n",
    "plt.ylabel(\"Total number\");\n"
   ]
  },
  {
   "cell_type": "markdown",
   "metadata": {},
   "source": [
    "From the Bar char above tuesdays has the highest number of no-show appointment,closely followed by wednessdays,then mondays, fridays and saturdays respectively."
   ]
  },
  {
   "cell_type": "markdown",
   "metadata": {},
   "source": [
    "<a id='conclusion'></a>\n",
    "## 4.0 Conclusions\n",
    "### 4.1 Summary of findings\n",
    "from the analysis of the data we discovered that the proportion of patients that fails to show up on thier appoint date is 20.19%. Majority of the Proportion are female who are in the age of 18-36 years of age, majority of which did not receiving sms reminders and mostly fail to show up on mondays to wednesdays.\n",
    "<a id='limitation'></a>\n",
    "### 4.2 Limitations\n",
    "This analysis is limited to only exploring sellected attributes of patients that failed to show up on their appoint date and did not perfoms predictive analysis to focast patients behaviour over time because of limited number of years (2 years) which the data was collected. \n",
    "<a id='recommendation'></a>\n",
    "### 4.3 Recommendation\n",
    "From our finding the following recommendation could be made;\n",
    "> i. The clinic should create awareness on the importance of not missing appointment dates, focusing more females patients who between 18-36 years of age.<BR>\n",
    "> ii. The Clinic should intensify its sms reminders to patients to possibly reduce the number of no-show. <BR>"
   ]
  },
  {
   "cell_type": "markdown",
   "metadata": {
    "collapsed": true
   },
   "source": [
    "<a id='reference'></a>\n",
    "## 5.0 Reference Materials\n",
    "\n",
    "<a id='ref1'>1.</a>[  Bolsa Família](https://en.wikipedia.org/wiki/Bolsa_Fam%C3%ADlia) <br>\n",
    "<a id='ref2'>2.</a>[  Alx-Udacity Project1 description](https://classroom.udacity.com/nanodegrees/nd002-alg-t2/parts/cd0000/modules/306f0239-bb80-45c6-bf45-37ee745a63d6/lessons/ls0526/concepts/ac0dd93f-dca2-420f-9395-8c6314443515)<br>\n",
    "<a id='ref3'>3.</a>[  Medical Appointment No Shows](https://www.kaggle.com/datasets/joniarroba/noshowappointments)<br>\n",
    "<a id='ref4'>4.</a>[how do i get the day of week given a date](https://stackoverflow.com/questions/9847213/how-do-i-get-the-day-of-week-given-a-date) <br>\n",
    "<a id='ref5'>5.</a>[Ploting categorical data with seaborn catplot()](https://seaborn.pydata.org/tutorial/categorical.html) <br>\n",
    "<ul style=\"margin-right:1\"> <a href=\"#intro\">Back to top</a></ul>"
   ]
  }
 ],
 "metadata": {
  "kernelspec": {
   "display_name": "Python 3 (ipykernel)",
   "language": "python",
   "name": "python3"
  },
  "language_info": {
   "codemirror_mode": {
    "name": "ipython",
    "version": 3
   },
   "file_extension": ".py",
   "mimetype": "text/x-python",
   "name": "python",
   "nbconvert_exporter": "python",
   "pygments_lexer": "ipython3",
   "version": "3.9.12"
  }
 },
 "nbformat": 4,
 "nbformat_minor": 2
}
